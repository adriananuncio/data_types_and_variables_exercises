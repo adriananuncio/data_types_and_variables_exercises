{
 "cells": [
  {
   "cell_type": "markdown",
   "id": "512531e6",
   "metadata": {},
   "source": [
    "#### 5. You have rented some movies for your kids: \n",
    "##### If the daily fee to rent a movie is 3 dollars, how much will you have to pay?\n"
   ]
  },
  {
   "cell_type": "code",
   "execution_count": 6,
   "id": "d10cc34d",
   "metadata": {},
   "outputs": [
    {
     "data": {
      "text/plain": [
       "9"
      ]
     },
     "execution_count": 6,
     "metadata": {},
     "output_type": "execute_result"
    }
   ],
   "source": [
    "# The Little Mermaid\n",
    "\n",
    "3 * 3"
   ]
  },
  {
   "cell_type": "code",
   "execution_count": 7,
   "id": "3f26eae5",
   "metadata": {},
   "outputs": [
    {
     "data": {
      "text/plain": [
       "15"
      ]
     },
     "execution_count": 7,
     "metadata": {},
     "output_type": "execute_result"
    }
   ],
   "source": [
    "# Brother Bear\n",
    "\n",
    "3 * 5"
   ]
  },
  {
   "cell_type": "code",
   "execution_count": 8,
   "id": "87800925",
   "metadata": {},
   "outputs": [
    {
     "data": {
      "text/plain": [
       "3"
      ]
     },
     "execution_count": 8,
     "metadata": {},
     "output_type": "execute_result"
    }
   ],
   "source": [
    "# Hercules\n",
    "\n",
    "3 * 1"
   ]
  },
  {
   "cell_type": "markdown",
   "id": "443d4e85",
   "metadata": {},
   "source": [
    "#### Review"
   ]
  },
  {
   "cell_type": "code",
   "execution_count": 28,
   "id": "6ba7656d",
   "metadata": {},
   "outputs": [],
   "source": [
    "# Set daily price to 3 dollars\n",
    "\n",
    "daily_price = 3"
   ]
  },
  {
   "cell_type": "code",
   "execution_count": 30,
   "id": "15f52fb5",
   "metadata": {},
   "outputs": [],
   "source": [
    "# Set the number of days\n",
    "\n",
    "days_little_mermaid = 3\n",
    "\n",
    "days_brother_bear = 5\n",
    "\n",
    "days_hercules = 1"
   ]
  },
  {
   "cell_type": "code",
   "execution_count": 31,
   "id": "4b96406f",
   "metadata": {},
   "outputs": [
    {
     "name": "stdout",
     "output_type": "stream",
     "text": [
      "27\n"
     ]
    }
   ],
   "source": [
    "total_price = days_little_mermaid * 3 + days_brother_bear * 3 + days_hercules * 3\n",
    "print(total_price)"
   ]
  },
  {
   "cell_type": "code",
   "execution_count": 32,
   "id": "1a3158bc",
   "metadata": {},
   "outputs": [
    {
     "name": "stdout",
     "output_type": "stream",
     "text": [
      "27\n"
     ]
    }
   ],
   "source": [
    "total_price = 3 * (days_little_mermaid + days_brother_bear + days_hercules)\n",
    "print(total_price)"
   ]
  },
  {
   "cell_type": "markdown",
   "id": "08f1e868",
   "metadata": {},
   "source": [
    "#### 6. Suppose you're working as a contractor for 3 companies: Google, Amazon and Facebook.\n",
    "\n",
    "#### They pay you the following hourly rates:\n",
    "\n",
    "#### Google: 400 dollars\n",
    "#### Amazon: 380 dollars\n",
    "#### Facebook: 350 dollars\n",
    "\n",
    "#### This week you worked: 10 hours for Facebook, 6 hours for Google and 4 hours for Amazon.\n",
    "#### How much will you receive in payment for this week?"
   ]
  },
  {
   "cell_type": "code",
   "execution_count": 10,
   "id": "95255680",
   "metadata": {},
   "outputs": [],
   "source": [
    "# Pay/hour\n",
    "g = 400\n",
    "a = 380\n",
    "f = 350\n",
    "\n",
    "# Hours worked\n",
    "g_hours = 10\n",
    "a_hours = 6\n",
    "f_hours = 4"
   ]
  },
  {
   "cell_type": "code",
   "execution_count": 11,
   "id": "55b40863",
   "metadata": {},
   "outputs": [],
   "source": [
    "paycheck = (g * g_hours) + (a * a_hours) + (f * f_hours)"
   ]
  },
  {
   "cell_type": "code",
   "execution_count": 12,
   "id": "5eed3a02",
   "metadata": {},
   "outputs": [
    {
     "data": {
      "text/plain": [
       "7680"
      ]
     },
     "execution_count": 12,
     "metadata": {},
     "output_type": "execute_result"
    }
   ],
   "source": [
    "paycheck"
   ]
  },
  {
   "cell_type": "markdown",
   "id": "ad3ae03e",
   "metadata": {},
   "source": [
    "#### 7. A student can be enrolled to a class only if the class is not full and the class schedule does not conflict with her current schedule."
   ]
  },
  {
   "cell_type": "code",
   "execution_count": 20,
   "id": "42b3a090",
   "metadata": {},
   "outputs": [
    {
     "name": "stdout",
     "output_type": "stream",
     "text": [
      "True\n"
     ]
    }
   ],
   "source": [
    "class_open = True\n",
    "schedule_free = True\n",
    "can_enroll = class_open and schedule_free\n",
    "\n",
    "print(can_enroll)"
   ]
  },
  {
   "cell_type": "markdown",
   "id": "19ceab34",
   "metadata": {},
   "source": [
    "#### Review"
   ]
  },
  {
   "cell_type": "code",
   "execution_count": 33,
   "id": "7f3ee866",
   "metadata": {},
   "outputs": [
    {
     "name": "stdout",
     "output_type": "stream",
     "text": [
      "False\n"
     ]
    }
   ],
   "source": [
    "class_is_full = True\n",
    "\n",
    "schedule_conflict = False\n",
    "\n",
    "able_to_enroll = class_is_full and schedule_conflict\n",
    "print(able_to_enroll)"
   ]
  },
  {
   "cell_type": "code",
   "execution_count": 35,
   "id": "ef43d1d3",
   "metadata": {},
   "outputs": [
    {
     "name": "stdout",
     "output_type": "stream",
     "text": [
      "True\n"
     ]
    }
   ],
   "source": [
    "class_is_not_full = True\n",
    "\n",
    "no_schedule_conflict = True\n",
    "\n",
    "able_to_enroll = class_is_not_full and no_schedule_conflict\n",
    "print(able_to_enroll)"
   ]
  },
  {
   "cell_type": "code",
   "execution_count": null,
   "id": "7cbe1944",
   "metadata": {},
   "outputs": [],
   "source": []
  },
  {
   "cell_type": "markdown",
   "id": "fdc222c6",
   "metadata": {},
   "source": [
    "#### 8. A product offer can be applied only if people buys more than 2 items, and the offer has not expired. Premium members do not need to buy a specific amount of products."
   ]
  },
  {
   "cell_type": "code",
   "execution_count": 27,
   "id": "7abff17c",
   "metadata": {},
   "outputs": [
    {
     "ename": "SyntaxError",
     "evalue": "invalid syntax (2977379278.py, line 5)",
     "output_type": "error",
     "traceback": [
      "\u001b[0;36m  Input \u001b[0;32mIn [27]\u001b[0;36m\u001b[0m\n\u001b[0;31m    offer_applies = True if\u001b[0m\n\u001b[0m                           ^\u001b[0m\n\u001b[0;31mSyntaxError\u001b[0m\u001b[0;31m:\u001b[0m invalid syntax\n"
     ]
    }
   ],
   "source": [
    "bought_more_than_two = \n",
    "offer_expired = bool\n",
    "premium_member = bool\n",
    "\n",
    "offer_applies = True if\n",
    "    premium_member = True\n",
    "    and\n",
    "    offer_expired = False\n",
    "    or\n",
    "    bought_more_than_two = True\n",
    "     and\n",
    "     offer_expired = False"
   ]
  },
  {
   "cell_type": "markdown",
   "id": "1f3c75b9",
   "metadata": {},
   "source": [
    "#### Review"
   ]
  },
  {
   "cell_type": "code",
   "execution_count": null,
   "id": "708adb4e",
   "metadata": {},
   "outputs": [],
   "source": []
  },
  {
   "cell_type": "code",
   "execution_count": 37,
   "id": "54f5d9ad",
   "metadata": {},
   "outputs": [
    {
     "name": "stdout",
     "output_type": "stream",
     "text": [
      "True\n"
     ]
    }
   ],
   "source": [
    "purchase_min_met = True\n",
    "offer_not_ecpired = True\n",
    "premium_membership = False\n",
    "\n",
    "eligibility = offer_not_ecpired and (purchase_min_met or premium_membership)\n",
    "print(eligibility)"
   ]
  },
  {
   "cell_type": "code",
   "execution_count": null,
   "id": "180ba660",
   "metadata": {},
   "outputs": [],
   "source": []
  },
  {
   "cell_type": "code",
   "execution_count": 44,
   "id": "a5fa2e31",
   "metadata": {},
   "outputs": [],
   "source": [
    "username = 'codeup'\n",
    "password = 'notastrongpassword'"
   ]
  },
  {
   "cell_type": "code",
   "execution_count": 45,
   "id": "42f6e847",
   "metadata": {},
   "outputs": [],
   "source": [
    "min_password_length_met = len(password) >= 5"
   ]
  },
  {
   "cell_type": "code",
   "execution_count": 46,
   "id": "7c174b94",
   "metadata": {},
   "outputs": [
    {
     "data": {
      "text/plain": [
       "True"
      ]
     },
     "execution_count": 46,
     "metadata": {},
     "output_type": "execute_result"
    }
   ],
   "source": [
    "min_password_length_met"
   ]
  },
  {
   "cell_type": "code",
   "execution_count": 47,
   "id": "df57ffd7",
   "metadata": {},
   "outputs": [],
   "source": [
    "max_username_length = len(username) <= 20"
   ]
  },
  {
   "cell_type": "code",
   "execution_count": 48,
   "id": "b98f9027",
   "metadata": {},
   "outputs": [
    {
     "data": {
      "text/plain": [
       "True"
      ]
     },
     "execution_count": 48,
     "metadata": {},
     "output_type": "execute_result"
    }
   ],
   "source": [
    "max_username_length"
   ]
  },
  {
   "cell_type": "code",
   "execution_count": 49,
   "id": "a7d341ce",
   "metadata": {},
   "outputs": [],
   "source": [
    "password_username_unique = password != username"
   ]
  },
  {
   "cell_type": "code",
   "execution_count": 52,
   "id": "d4ecb7c5",
   "metadata": {},
   "outputs": [
    {
     "name": "stdout",
     "output_type": "stream",
     "text": [
      "True\n"
     ]
    }
   ],
   "source": [
    "valid_credentials = min_password_length_met and max_username_length and password_username_unique\n",
    "print (valid_credentials)"
   ]
  },
  {
   "cell_type": "code",
   "execution_count": null,
   "id": "912fb587",
   "metadata": {},
   "outputs": [],
   "source": []
  },
  {
   "cell_type": "code",
   "execution_count": null,
   "id": "c844ec0e",
   "metadata": {},
   "outputs": [],
   "source": []
  },
  {
   "cell_type": "markdown",
   "id": "f700e12b",
   "metadata": {},
   "source": [
    "#### 9. Create a variable that holds a boolean value for each of the following conditions:\n",
    "\n",
    "##### username = 'codeup'\n",
    "##### password = 'notastrongpassword'\n",
    "\n",
    "\n",
    "##### The password must be at least 5 characters\n",
    "##### The username must be no more than 20 characters\n",
    "##### The password must not be the same as the username\n",
    "##### Bonus Neither the username or password can start or end with whitespace"
   ]
  },
  {
   "cell_type": "code",
   "execution_count": 53,
   "id": "bc142452",
   "metadata": {},
   "outputs": [],
   "source": [
    "username = 'codeup'\n",
    "password = 'notastrongpassword'"
   ]
  },
  {
   "cell_type": "code",
   "execution_count": 66,
   "id": "8bbdd32d",
   "metadata": {},
   "outputs": [
    {
     "name": "stdout",
     "output_type": "stream",
     "text": [
      "True\n"
     ]
    }
   ],
   "source": [
    "password_length = len(password) >= 5\n",
    "\n",
    "print(password_length)"
   ]
  },
  {
   "cell_type": "code",
   "execution_count": 78,
   "id": "06598e0d",
   "metadata": {},
   "outputs": [
    {
     "name": "stdout",
     "output_type": "stream",
     "text": [
      "True\n"
     ]
    }
   ],
   "source": [
    "username_length = len(username) <= 20\n",
    "\n",
    "print(username_length)"
   ]
  },
  {
   "cell_type": "code",
   "execution_count": 70,
   "id": "b7e698f4",
   "metadata": {},
   "outputs": [
    {
     "name": "stdout",
     "output_type": "stream",
     "text": [
      "True\n"
     ]
    }
   ],
   "source": [
    "unique_password_and_username = password != username\n",
    "\n",
    "print(unique_password_and_username)"
   ]
  },
  {
   "cell_type": "code",
   "execution_count": 75,
   "id": "450a7778",
   "metadata": {},
   "outputs": [
    {
     "name": "stdout",
     "output_type": "stream",
     "text": [
      "True\n"
     ]
    }
   ],
   "source": [
    "username_verification = username_length and unique_password_and_username\n",
    "    \n",
    "print(username_verification)"
   ]
  },
  {
   "cell_type": "code",
   "execution_count": 76,
   "id": "97dc97e6",
   "metadata": {},
   "outputs": [
    {
     "name": "stdout",
     "output_type": "stream",
     "text": [
      "True\n"
     ]
    }
   ],
   "source": [
    "password_verification = password_length and unique_password_and_username\n",
    "\n",
    "print(password_verification)"
   ]
  },
  {
   "cell_type": "code",
   "execution_count": null,
   "id": "6aa0fa02",
   "metadata": {},
   "outputs": [],
   "source": []
  }
 ],
 "metadata": {
  "kernelspec": {
   "display_name": "Python 3 (ipykernel)",
   "language": "python",
   "name": "python3"
  },
  "language_info": {
   "codemirror_mode": {
    "name": "ipython",
    "version": 3
   },
   "file_extension": ".py",
   "mimetype": "text/x-python",
   "name": "python",
   "nbconvert_exporter": "python",
   "pygments_lexer": "ipython3",
   "version": "3.9.13"
  }
 },
 "nbformat": 4,
 "nbformat_minor": 5
}
